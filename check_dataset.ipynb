{
 "cells": [
  {
   "cell_type": "markdown",
   "metadata": {},
   "source": [
    "### Check RobotDataset (torch.utils.data.Dataset & imageio): get by index, slow"
   ]
  },
  {
   "cell_type": "code",
   "execution_count": 1,
   "metadata": {},
   "outputs": [],
   "source": [
    "import torch\n",
    "from PIL import Image\n",
    "import itertools\n",
    "import imageio\n",
    "import cv2"
   ]
  },
  {
   "cell_type": "code",
   "execution_count": 2,
   "metadata": {},
   "outputs": [
    {
     "name": "stdout",
     "output_type": "stream",
     "text": [
      "1.4.0\n",
      "2.9.0\n",
      "4.1.0\n"
     ]
    }
   ],
   "source": [
    "print (torch.__version__)\n",
    "print (imageio.__version__)\n",
    "print (cv2.__version__)"
   ]
  },
  {
   "cell_type": "code",
   "execution_count": 3,
   "metadata": {},
   "outputs": [
    {
     "name": "stdout",
     "output_type": "stream",
     "text": [
      "1.5 (10,) (360, 640, 3) (360, 640, 3)\n",
      "1.55 (10,) (360, 640, 3) (360, 640, 3)\n",
      "1.6 (10,) (360, 640, 3) (360, 640, 3)\n",
      "1.65 (10,) (360, 640, 3) (360, 640, 3)\n",
      "1.7 (10,) (360, 640, 3) (360, 640, 3)\n"
     ]
    }
   ],
   "source": [
    "from RobotDataset import RobotDataset\n",
    "\n",
    "mydataset = RobotDataset(dataset_dir='my_dataset/')\n",
    "\n",
    "for i in range(30, 35):\n",
    "    sample = mydataset[i]\n",
    "    ts = sample['ts']\n",
    "    obs = sample['touch']\n",
    "    rgb = sample['rgb']\n",
    "    depth = sample['depth']\n",
    "    print (ts, obs.shape, rgb.shape, depth.shape)"
   ]
  },
  {
   "cell_type": "markdown",
   "metadata": {},
   "source": [
    "### Check RobotIterableDataset (torch.utils.data.IterableDataset & DataLoader & cv2): iterable"
   ]
  },
  {
   "cell_type": "code",
   "execution_count": 4,
   "metadata": {},
   "outputs": [
    {
     "name": "stdout",
     "output_type": "stream",
     "text": [
      "tensor([1.5000]) torch.Size([1, 10]) torch.Size([1, 360, 640, 3]) torch.Size([1, 360, 640, 3])\n",
      "tensor([1.5500]) torch.Size([1, 10]) torch.Size([1, 360, 640, 3]) torch.Size([1, 360, 640, 3])\n",
      "tensor([1.6000]) torch.Size([1, 10]) torch.Size([1, 360, 640, 3]) torch.Size([1, 360, 640, 3])\n",
      "tensor([1.6500]) torch.Size([1, 10]) torch.Size([1, 360, 640, 3]) torch.Size([1, 360, 640, 3])\n",
      "tensor([1.7000]) torch.Size([1, 10]) torch.Size([1, 360, 640, 3]) torch.Size([1, 360, 640, 3])\n"
     ]
    }
   ],
   "source": [
    "from RobotIterableDataset import RobotIterableDataset\n",
    "from torch.utils.data import DataLoader\n",
    "import time\n",
    "\n",
    "mydataset = RobotIterableDataset(dataset_dir='my_dataset/', start=30, end=34)\n",
    "\n",
    "loader = DataLoader(mydataset)\n",
    "\n",
    "for i, sample in enumerate(loader):\n",
    "    ts = sample['ts']\n",
    "    obs = sample['touch']\n",
    "    rgb = sample['rgb']\n",
    "    depth = sample['depth']\n",
    "    print (ts, obs.shape, rgb.shape, depth.shape)    "
   ]
  },
  {
   "cell_type": "code",
   "execution_count": 5,
   "metadata": {},
   "outputs": [
    {
     "name": "stdout",
     "output_type": "stream",
     "text": [
      "tensor([0.]) torch.Size([1, 10]) torch.Size([1, 360, 640, 3]) torch.Size([1, 360, 640, 3])\n",
      "--- 0.029706239700317383 , sec ---\n",
      "tensor([997.]) torch.Size([1, 10]) torch.Size([1, 360, 640, 3]) torch.Size([1, 360, 640, 3])\n",
      "--- 1.029484510421753 , sec ---\n",
      "tensor([1342.1000]) torch.Size([1, 10]) torch.Size([1, 360, 640, 3]) torch.Size([1, 360, 640, 3])\n",
      "--- 1.3775134086608887 , sec ---\n",
      "tensor([2534.1499]) torch.Size([1, 10]) torch.Size([1, 360, 640, 3]) torch.Size([1, 360, 640, 3])\n",
      "--- 2.573336124420166 , sec ---\n",
      "tensor([5947.2002]) torch.Size([1, 10]) torch.Size([1, 360, 640, 3]) torch.Size([1, 360, 640, 3])\n",
      "--- 5.993436098098755 , sec ---\n"
     ]
    }
   ],
   "source": [
    "mydataset_live = RobotIterableDataset(dataset_dir='my_dataset_2/', simulate_live_mode=True)\n",
    "\n",
    "loader_live = DataLoader(mydataset_live)\n",
    "\n",
    "start_time = time.time()\n",
    "for i, sample in enumerate(loader_live):\n",
    "    ts = sample['ts']\n",
    "    obs = sample['touch']\n",
    "    rgb = sample['rgb']\n",
    "    depth = sample['depth']\n",
    "    print (ts, obs.shape, rgb.shape, depth.shape)\n",
    "    print (\"--- %s , sec ---\" % (time.time()-start_time))"
   ]
  }
 ],
 "metadata": {
  "kernelspec": {
   "display_name": "Python 3",
   "language": "python",
   "name": "python3"
  },
  "language_info": {
   "codemirror_mode": {
    "name": "ipython",
    "version": 3
   },
   "file_extension": ".py",
   "mimetype": "text/x-python",
   "name": "python",
   "nbconvert_exporter": "python",
   "pygments_lexer": "ipython3",
   "version": "3.6.12"
  }
 },
 "nbformat": 4,
 "nbformat_minor": 2
}
